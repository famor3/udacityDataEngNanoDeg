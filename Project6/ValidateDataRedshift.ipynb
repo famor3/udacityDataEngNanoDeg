{
 "cells": [
  {
   "cell_type": "code",
   "execution_count": 1,
   "metadata": {},
   "outputs": [],
   "source": [
    "import psycopg2\n",
    "redshift_endpoint = \"redshift-cmsop.c88fy8ndcs2s.us-east-2.redshift.amazonaws.com\"\n",
    "redshift_user = \"cmsuser\"\n",
    "redshift_pass = \"Udacity1\"\n",
    "port = 5439\n",
    "dbname = \"cmsop\""
   ]
  },
  {
   "cell_type": "code",
   "execution_count": 2,
   "metadata": {},
   "outputs": [],
   "source": [
    "from sqlalchemy import create_engine\n",
    "from sqlalchemy import text\n",
    "engine_string = \"postgresql+psycopg2://%s:%s@%s:%d/%s\" \\\n",
    "% (redshift_user, redshift_pass, redshift_endpoint, port, dbname)\n",
    "engine = create_engine(engine_string)"
   ]
  },
  {
   "cell_type": "code",
   "execution_count": 3,
   "metadata": {},
   "outputs": [],
   "source": [
    "sql = \"\"\"\n",
    "select count(distinct phys_id)\n",
    "from physicians\n",
    "\"\"\""
   ]
  },
  {
   "cell_type": "code",
   "execution_count": 4,
   "metadata": {},
   "outputs": [
    {
     "data": {
      "text/plain": [
       "[(2225,)]"
      ]
     },
     "execution_count": 4,
     "metadata": {},
     "output_type": "execute_result"
    }
   ],
   "source": [
    "tables = []\n",
    "output = engine.execute(sql)\n",
    "for row in output:\n",
    "    tables.append(row)\n",
    "tables"
   ]
  },
  {
   "cell_type": "code",
   "execution_count": 5,
   "metadata": {},
   "outputs": [],
   "source": [
    "sql = \"\"\"\n",
    "select count(distinct record_id)\n",
    "from payments\n",
    "\"\"\""
   ]
  },
  {
   "cell_type": "code",
   "execution_count": 6,
   "metadata": {},
   "outputs": [
    {
     "data": {
      "text/plain": [
       "[(10367307,)]"
      ]
     },
     "execution_count": 6,
     "metadata": {},
     "output_type": "execute_result"
    }
   ],
   "source": [
    "tables = []\n",
    "output = engine.execute(sql)\n",
    "for row in output:\n",
    "    tables.append(row)\n",
    "tables"
   ]
  },
  {
   "cell_type": "code",
   "execution_count": 7,
   "metadata": {},
   "outputs": [],
   "source": [
    "sql = \"\"\"\n",
    "select count(distinct record_id)\n",
    "from research\n",
    "\"\"\""
   ]
  },
  {
   "cell_type": "code",
   "execution_count": 8,
   "metadata": {},
   "outputs": [
    {
     "data": {
      "text/plain": [
       "[(613579,)]"
      ]
     },
     "execution_count": 8,
     "metadata": {},
     "output_type": "execute_result"
    }
   ],
   "source": [
    "tables = []\n",
    "output = engine.execute(sql)\n",
    "for row in output:\n",
    "    tables.append(row)\n",
    "tables"
   ]
  },
  {
   "cell_type": "code",
   "execution_count": 9,
   "metadata": {},
   "outputs": [],
   "source": [
    "sql = \"\"\"\n",
    "select count(*)\n",
    "from physicians\n",
    "where record_id is null\n",
    "\"\"\""
   ]
  },
  {
   "cell_type": "code",
   "execution_count": 10,
   "metadata": {},
   "outputs": [
    {
     "data": {
      "text/plain": [
       "[(0,)]"
      ]
     },
     "execution_count": 10,
     "metadata": {},
     "output_type": "execute_result"
    }
   ],
   "source": [
    "tables = []\n",
    "output = engine.execute(sql)\n",
    "for row in output:\n",
    "    tables.append(row)\n",
    "tables"
   ]
  },
  {
   "cell_type": "code",
   "execution_count": 11,
   "metadata": {},
   "outputs": [],
   "source": [
    "sql = \"\"\"\n",
    "select count(*)\n",
    "from payments\n",
    "where record_id is null\n",
    "\"\"\""
   ]
  },
  {
   "cell_type": "code",
   "execution_count": 12,
   "metadata": {},
   "outputs": [
    {
     "data": {
      "text/plain": [
       "[(0,)]"
      ]
     },
     "execution_count": 12,
     "metadata": {},
     "output_type": "execute_result"
    }
   ],
   "source": [
    "tables = []\n",
    "output = engine.execute(sql)\n",
    "for row in output:\n",
    "    tables.append(row)\n",
    "tables"
   ]
  },
  {
   "cell_type": "code",
   "execution_count": 13,
   "metadata": {},
   "outputs": [],
   "source": [
    "sql = \"\"\"\n",
    "select count(*)\n",
    "from research\n",
    "where record_id is null\n",
    "\"\"\""
   ]
  },
  {
   "cell_type": "code",
   "execution_count": 14,
   "metadata": {},
   "outputs": [
    {
     "data": {
      "text/plain": [
       "[(0,)]"
      ]
     },
     "execution_count": 14,
     "metadata": {},
     "output_type": "execute_result"
    }
   ],
   "source": [
    "tables = []\n",
    "output = engine.execute(sql)\n",
    "for row in output:\n",
    "    tables.append(row)\n",
    "tables"
   ]
  },
  {
   "cell_type": "code",
   "execution_count": 15,
   "metadata": {},
   "outputs": [],
   "source": [
    "sql = \"\"\"\n",
    "select phys_id, record_id, tot_amt_inv\n",
    "from physicians\n",
    "limit 5\n",
    "\"\"\""
   ]
  },
  {
   "cell_type": "code",
   "execution_count": 16,
   "metadata": {},
   "outputs": [
    {
     "data": {
      "text/plain": [
       "[(Decimal('122203'), Decimal('623627961'), Decimal('0.00')),\n",
       " (Decimal('16225'), Decimal('623627965'), Decimal('0.00')),\n",
       " (Decimal('67052'), Decimal('623627969'), Decimal('0.00')),\n",
       " (Decimal('80815'), Decimal('623627973'), Decimal('0.00')),\n",
       " (Decimal('241735'), Decimal('623627977'), Decimal('0.00'))]"
      ]
     },
     "execution_count": 16,
     "metadata": {},
     "output_type": "execute_result"
    }
   ],
   "source": [
    "tables = []\n",
    "output = engine.execute(sql)\n",
    "for row in output:\n",
    "    tables.append(row)\n",
    "tables"
   ]
  },
  {
   "cell_type": "code",
   "execution_count": 17,
   "metadata": {},
   "outputs": [],
   "source": [
    "sql = \"\"\"\n",
    "select record_id, phys_id, tot_pmt\n",
    "from payments\n",
    "limit 5\n",
    "\"\"\""
   ]
  },
  {
   "cell_type": "code",
   "execution_count": 18,
   "metadata": {},
   "outputs": [
    {
     "data": {
      "text/plain": [
       "[(Decimal('618989349'), Decimal('3362255'), Decimal('11.99')),\n",
       " (Decimal('618989357'), Decimal('1332318'), Decimal('11.99')),\n",
       " (Decimal('618989365'), Decimal('1827953'), Decimal('11.99')),\n",
       " (Decimal('618989373'), Decimal('1033404'), Decimal('14.88')),\n",
       " (Decimal('618989381'), Decimal('867359'), Decimal('11.99'))]"
      ]
     },
     "execution_count": 18,
     "metadata": {},
     "output_type": "execute_result"
    }
   ],
   "source": [
    "tables = []\n",
    "output = engine.execute(sql)\n",
    "for row in output:\n",
    "    tables.append(row)\n",
    "tables"
   ]
  },
  {
   "cell_type": "code",
   "execution_count": 19,
   "metadata": {},
   "outputs": [],
   "source": [
    "sql = \"\"\"\n",
    "select record_id, teach_hosp_id, phys_id, tot_pmt\n",
    "from research\n",
    "limit 5\n",
    "\"\"\""
   ]
  },
  {
   "cell_type": "code",
   "execution_count": 20,
   "metadata": {},
   "outputs": [
    {
     "data": {
      "text/plain": [
       "[(Decimal('692970101'), Decimal('7516'), None, Decimal('414.38')),\n",
       " (Decimal('670009703'), None, Decimal('148409'), Decimal('4013.75')),\n",
       " (Decimal('666476485'), Decimal('8013'), None, Decimal('231.00')),\n",
       " (Decimal('654240623'), Decimal('8336'), None, Decimal('3961.16')),\n",
       " (Decimal('692971661'), Decimal('8616'), None, Decimal('44.53'))]"
      ]
     },
     "execution_count": 20,
     "metadata": {},
     "output_type": "execute_result"
    }
   ],
   "source": [
    "tables = []\n",
    "output = engine.execute(sql)\n",
    "for row in output:\n",
    "    tables.append(row)\n",
    "tables"
   ]
  },
  {
   "cell_type": "code",
   "execution_count": null,
   "metadata": {},
   "outputs": [],
   "source": []
  }
 ],
 "metadata": {
  "kernelspec": {
   "display_name": "Python 3",
   "language": "python",
   "name": "python3"
  },
  "language_info": {
   "codemirror_mode": {
    "name": "ipython",
    "version": 3
   },
   "file_extension": ".py",
   "mimetype": "text/x-python",
   "name": "python",
   "nbconvert_exporter": "python",
   "pygments_lexer": "ipython3",
   "version": "3.8.5"
  }
 },
 "nbformat": 4,
 "nbformat_minor": 4
}
