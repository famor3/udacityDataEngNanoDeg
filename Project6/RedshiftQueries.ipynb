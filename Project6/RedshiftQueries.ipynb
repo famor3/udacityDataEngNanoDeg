{
 "cells": [
  {
   "cell_type": "code",
   "execution_count": 1,
   "metadata": {},
   "outputs": [],
   "source": [
    "import psycopg2\n",
    "redshift_endpoint = \"redshift-cmsop.c88fy8ndcs2s.us-east-2.redshift.amazonaws.com\"\n",
    "redshift_user = \"cmsuser\"\n",
    "redshift_pass = \"Udacity1\"\n",
    "port = 5439\n",
    "dbname = \"cmsop\""
   ]
  },
  {
   "cell_type": "code",
   "execution_count": 3,
   "metadata": {},
   "outputs": [],
   "source": [
    "from sqlalchemy import create_engine\n",
    "from sqlalchemy import text\n",
    "engine_string = \"postgresql+psycopg2://%s:%s@%s:%d/%s\" \\\n",
    "% (redshift_user, redshift_pass, redshift_endpoint, port, dbname)\n",
    "engine = create_engine(engine_string)"
   ]
  },
  {
   "cell_type": "code",
   "execution_count": 7,
   "metadata": {},
   "outputs": [],
   "source": [
    "sql = \"\"\"\n",
    "select phys_id, phys_lname, phys_fname, phys_st, tot_amt_inv\n",
    "from physicians\n",
    "group by phys_id, phys_lname, phys_fname, phys_st, tot_amt_inv\n",
    "order by tot_amt_inv desc\n",
    "limit 20\n",
    "\"\"\""
   ]
  },
  {
   "cell_type": "code",
   "execution_count": 8,
   "metadata": {},
   "outputs": [
    {
     "data": {
      "text/plain": [
       "[(Decimal('1315076'), 'Lopez', 'George', 'CA', Decimal('276759911.11')),\n",
       " (Decimal('286115'), 'MOLL', 'FREDERIC', 'CA', Decimal('84460265.67')),\n",
       " (Decimal('355094'), 'Steinmann', 'John', 'CA', Decimal('6718139.00')),\n",
       " (Decimal('40822'), 'Chao', 'Michael', 'CA', Decimal('6000000.00')),\n",
       " (Decimal('52496'), 'Jackson', 'Frank', 'PA', Decimal('4750000.00')),\n",
       " (Decimal('342101'), 'FREEMAN', 'JOHN', 'TN', Decimal('4186000.00')),\n",
       " (Decimal('221546'), 'FREEMAN', 'JAMES', 'TN', Decimal('4186000.00')),\n",
       " (Decimal('411850'), 'Cirksena', 'William', 'MD', Decimal('3300000.00')),\n",
       " (Decimal('245560'), 'Scheker', 'Luis', 'KY', Decimal('2577614.00')),\n",
       " (Decimal('164611'), 'Chaitoff', 'Jeffrey', 'OH', Decimal('2294231.00')),\n",
       " (Decimal('208331'), 'Spayde', 'Erik', 'CA', Decimal('2000000.00')),\n",
       " (Decimal('142810'), 'Schwartz', 'Arnold', 'NY', Decimal('1793790.14')),\n",
       " (Decimal('576530'), 'Anderson', 'David', 'PA', Decimal('1750000.00')),\n",
       " (Decimal('282793'), 'Sung', 'Roger', 'CO', Decimal('1550000.00')),\n",
       " (Decimal('298211'), 'Edwards', 'Charles', 'MD', Decimal('1522451.11')),\n",
       " (Decimal('264114'), 'BARKER', 'STEVEN', 'AZ', Decimal('1514623.35')),\n",
       " (Decimal('925891'), 'Schaffer', 'Derace', 'FL', Decimal('1502539.05')),\n",
       " (Decimal('622837'), 'Kovalchik', 'Michael', 'CT', Decimal('1464130.94')),\n",
       " (Decimal('476987'), 'Matta', 'Joel', 'CA', Decimal('1350000.00')),\n",
       " (Decimal('201543'), 'Goldberg', 'Steven', 'FL', Decimal('1291658.43'))]"
      ]
     },
     "execution_count": 8,
     "metadata": {},
     "output_type": "execute_result"
    }
   ],
   "source": [
    "tables = []\n",
    "output = engine.execute(sql)\n",
    "for row in output:\n",
    "    tables.append(row)\n",
    "tables"
   ]
  },
  {
   "cell_type": "code",
   "execution_count": 13,
   "metadata": {},
   "outputs": [],
   "source": [
    "sql = \"\"\"\n",
    "select sub_mfg_id, sub_mfg_name, tot_amt_inv\n",
    "from physicians\n",
    "group by sub_mfg_id, sub_mfg_name, tot_amt_inv\n",
    "order by tot_amt_inv desc\n",
    "limit 10\n",
    "\"\"\""
   ]
  },
  {
   "cell_type": "code",
   "execution_count": 14,
   "metadata": {},
   "outputs": [
    {
     "data": {
      "text/plain": [
       "[(Decimal('100000010657'), 'ICU Medical Inc', Decimal('276759911.11')),\n",
       " (Decimal('100000226828'), 'Auris Health, Inc.', Decimal('84460265.67')),\n",
       " (Decimal('100000005426'), 'Renovis Surgical Technologies, Inc.', Decimal('6718139.00')),\n",
       " (Decimal('100000010807'), 'Parsolex GMP Center, Inc.', Decimal('6000000.00')),\n",
       " (Decimal('100000076364'), 'GI Supply, Inc.', Decimal('4750000.00')),\n",
       " (Decimal('100000041242'), 'Grace Medical, Inc.', Decimal('4186000.00')),\n",
       " (Decimal('100000071358'), 'Vapotherm Inc', Decimal('3300000.00')),\n",
       " (Decimal('100000010554'), 'Aptis Medical, LLC', Decimal('2577614.00')),\n",
       " (Decimal('100000151627'), 'SPR Therapeutics, Inc', Decimal('2294231.00')),\n",
       " (Decimal('100000196812'), 'AxioMed LLC', Decimal('2000000.00'))]"
      ]
     },
     "execution_count": 14,
     "metadata": {},
     "output_type": "execute_result"
    }
   ],
   "source": [
    "tables = []\n",
    "output = engine.execute(sql)\n",
    "for row in output:\n",
    "    tables.append(row)\n",
    "tables"
   ]
  },
  {
   "cell_type": "code",
   "execution_count": 17,
   "metadata": {},
   "outputs": [],
   "source": [
    "sql = \"\"\"\n",
    "select ndc1, count(ndc1)\n",
    "from research\n",
    "where ndc1 <> ''\n",
    "group by ndc1\n",
    "order by count(ndc1) desc\n",
    "limit 10\n",
    "\"\"\""
   ]
  },
  {
   "cell_type": "code",
   "execution_count": 18,
   "metadata": {},
   "outputs": [
    {
     "data": {
      "text/plain": [
       "[('0006-3029-02', 34332),\n",
       " ('64678-211-01', 25070),\n",
       " ('0597-0152-30', 11730),\n",
       " ('62856-710-30', 8525),\n",
       " ('0074-0038-28', 6271),\n",
       " ('0069-0187-21', 4974),\n",
       " ('0051-8462-33', 4936),\n",
       " ('0024-5914-01', 4850),\n",
       " ('0093-3607-82', 4188),\n",
       " ('65597-406-01', 4139)]"
      ]
     },
     "execution_count": 18,
     "metadata": {},
     "output_type": "execute_result"
    }
   ],
   "source": [
    "tables = []\n",
    "output = engine.execute(sql)\n",
    "for row in output:\n",
    "    tables.append(row)\n",
    "tables"
   ]
  },
  {
   "cell_type": "code",
   "execution_count": null,
   "metadata": {},
   "outputs": [],
   "source": []
  }
 ],
 "metadata": {
  "kernelspec": {
   "display_name": "Python 3",
   "language": "python",
   "name": "python3"
  },
  "language_info": {
   "codemirror_mode": {
    "name": "ipython",
    "version": 3
   },
   "file_extension": ".py",
   "mimetype": "text/x-python",
   "name": "python",
   "nbconvert_exporter": "python",
   "pygments_lexer": "ipython3",
   "version": "3.8.5"
  }
 },
 "nbformat": 4,
 "nbformat_minor": 4
}
